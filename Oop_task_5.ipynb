{
  "nbformat": 4,
  "nbformat_minor": 0,
  "metadata": {
    "colab": {
      "name": "Oop task 5.ipynb",
      "provenance": [],
      "collapsed_sections": [],
      "authorship_tag": "ABX9TyNYLJHHnWYO7gIJgd1JuDWs",
      "include_colab_link": true
    },
    "kernelspec": {
      "name": "python3",
      "display_name": "Python 3"
    },
    "language_info": {
      "name": "python"
    }
  },
  "cells": [
    {
      "cell_type": "markdown",
      "metadata": {
        "id": "view-in-github",
        "colab_type": "text"
      },
      "source": [
        "<a href=\"https://colab.research.google.com/github/Spsunil8682/oop-lab-task-5/blob/main/Oop_task_5.ipynb\" target=\"_parent\"><img src=\"https://colab.research.google.com/assets/colab-badge.svg\" alt=\"Open In Colab\"/></a>"
      ]
    },
    {
      "cell_type": "code",
      "metadata": {
        "colab": {
          "base_uri": "https://localhost:8080/"
        },
        "id": "cc0abHI0yz_J",
        "outputId": "a6a22ab2-51af-442b-eb11-15713c833519"
      },
      "source": [
        "#Problem3\n",
        "class car:\n",
        "  def __init__(self,carnumber):\n",
        "    self.carnumber=carnumber\n",
        "c1=car(2017)\n",
        "c2=car(2015)\n",
        "print('The Model Number of c1 is',c1.carnumber)\n",
        "print('The Model Number of c2 is',c2.carnumber)\n",
        "print('--------------------------------')\n",
        "def carnumswap():\n",
        "  c1.carnumber,c2.carnumber=c2.carnumber,c1.carnumber\n",
        "  print(\"The Model Number of c1 is \",c1.carnumber)\n",
        "  print(\"The Model Number of c2 is \",c2.carnumber)\n",
        "carnumswap()"
      ],
      "execution_count": null,
      "outputs": [
        {
          "output_type": "stream",
          "name": "stdout",
          "text": [
            "The Model Number of c1 is 2017\n",
            "The Model Number of c2 is 2015\n",
            "--------------------------------\n",
            "The Model Number of c1 is  2015\n",
            "The Model Number of c2 is  2017\n"
          ]
        }
      ]
    },
    {
      "cell_type": "code",
      "metadata": {
        "colab": {
          "base_uri": "https://localhost:8080/"
        },
        "id": "Fijac6BSCvrJ",
        "outputId": "de2720e5-2daf-4299-b624-f1cc69aa2e57"
      },
      "source": [
        "#Problem2\n",
        "class travel:\n",
        "\n",
        "  def __init__(self, travel):\n",
        "    self.travel = travel\n",
        "\n",
        "  def number_of_passangers(self):\n",
        "    pass\n",
        "\n",
        "  def distance(self):\n",
        "    pass\n",
        "\n",
        "  def mode(self):\n",
        "    pass\n",
        "\n",
        "class train(travel):\n",
        "\n",
        "  def __init__(self, total_passangers):\n",
        "    self.total_passangers = total_passangers\n",
        "\n",
        "  def cost_of_transport(self):\n",
        "    print('Cost of Transport by Train is Rs.',self.total_passangers*60)\n",
        "\n",
        "class bus(travel):\n",
        "\n",
        "  def __init__(self, total_passangers):\n",
        "    self.total_passangers = total_passangers\n",
        "\n",
        "  def cost_of_transport(self):\n",
        "    print('Cost of Transport by Bus is Rs.',self.total_passangers*100)\n",
        "\n",
        "mode1 = train(10)\n",
        "mode1.cost_of_transport()\n",
        "\n",
        "mode2 = bus(10)\n",
        "mode2.cost_of_transport()"
      ],
      "execution_count": null,
      "outputs": [
        {
          "output_type": "stream",
          "name": "stdout",
          "text": [
            "Cost of Transport by Train is Rs. 600\n",
            "Cost of Transport by Bus is Rs. 1000\n"
          ]
        }
      ]
    },
    {
      "cell_type": "code",
      "metadata": {
        "colab": {
          "base_uri": "https://localhost:8080/"
        },
        "id": "-G0BRV4WADJY",
        "outputId": "bb115c33-2343-4afb-b8c8-df58d137906f"
      },
      "source": [
        "#Problem1\n",
        "from abc import ABC, abstractmethod\n",
        "import math\n",
        "class shape(ABC):\n",
        "    def __init__(self, shape):\n",
        "        self.shape = shape\n",
        "\n",
        "    @abstractmethod\n",
        "    def area(self):\n",
        "        pass\n",
        "\n",
        "class rectangle(shape):\n",
        "    def __init__(self, length, breadth):\n",
        "        shape.__init__(self, 'rectangle')\n",
        "        self.length = length\n",
        "        self.breadth = breadth\n",
        "\n",
        "    def area(self):\n",
        "        return self.length*self.breadth\n",
        "\n",
        "class circle(shape):\n",
        "    def __init__(self, radius):\n",
        "        shape.__init__(self, 'circle')\n",
        "        self.radius = radius\n",
        "\n",
        "    def area(self):\n",
        "        return round((math.pi)*(self.radius*2),2)\n",
        "\n",
        "class square(shape):\n",
        "    def __init__(self, side):\n",
        "        shape.__init__(self, 'square')\n",
        "        self.side = side\n",
        "\n",
        "    def area(self):\n",
        "        return self.side*self.side\n",
        "\n",
        "sq = square(5)\n",
        "print(\"Area of square : \", sq.area())\n",
        "rect = rectangle(3,9)\n",
        "print(\"Area of rectangle : \", rect.area())\n",
        "c = circle(7.5)\n",
        "print(\"Area of circle : \", c.area())"
      ],
      "execution_count": null,
      "outputs": [
        {
          "output_type": "stream",
          "name": "stdout",
          "text": [
            "Area of square :  25\n",
            "Area of rectangle :  27\n",
            "Area of circle :  47.12\n"
          ]
        }
      ]
    }
  ]
}